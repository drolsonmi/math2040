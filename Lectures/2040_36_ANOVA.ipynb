{
 "cells": [
  {
   "cell_type": "markdown",
   "id": "e40dab46",
   "metadata": {},
   "source": [
    "# Lesson 36 - ANOVA\n",
    "\n",
    "* To demonstrate what we are doing, show the variance of and between variables by showing boxplots of 1 variable by 4 categories\n",
    "    * Show all with low variance and nearly the same mean\n",
    "        * Null Hypothesis\n",
    "    * Show again with low variance but very different means\n",
    "        * High variance __between__ categories indicates categories are different - leans toward rejecting H0\n",
    "        * Low variance between categories indicates categories are not different - leans toward failing to reject H0\n",
    "    * Show again with high variance and very different means\n",
    "        * High variance __within__ catgories indicates categories are not different - leans toward failing to reject H0\n",
    "        * Low variance within categories indicates categories are more different - leans toward rejecting H0\n",
    "    * Conclusion depends on both\n",
    "        * To reject H0, we want both __high variance between categories__ and __low variance within categories__\n",
    "        * $f_{score} = \\frac{variance~between~categories}{variance~within~categories}$"
   ]
  },
  {
   "cell_type": "markdown",
   "id": "e7071a3a",
   "metadata": {},
   "source": []
  }
 ],
 "metadata": {
  "language_info": {
   "name": "python"
  }
 },
 "nbformat": 4,
 "nbformat_minor": 5
}
