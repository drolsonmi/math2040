{
 "cells": [
  {
   "cell_type": "markdown",
   "id": "f4aa0705",
   "metadata": {},
   "source": [
    "# Lecture 29 Chi Squared\n",
    "\n",
    "* $H_0$: Two categories are independent\n",
    "* $H_A$: Two categories are not independent\n",
    "\n",
    "| Category | Expected # | Actual # | $\\frac{(X-E[X])^2}{E[X]}$  | $\\chi^2$ Contribution |\n",
    "| :------: | :--------: | :------: | :------------------------: | :-------------------: |\n",
    "|    A     | 25         | 20       | $\\frac{(20-25)^2}{25} = 1$ | 1                     |\n",
    "|    B     | 25         | 20       | $\\frac{(20-25)^2}{25} = 1$ | 1                     |\n",
    "|    C     | 25         | 25       | $\\frac{(25-25)^2}{25} = 0$ | 0                     |\n",
    "|    D     | 25         | 35       | $\\frac{(35-25)^2}{25} = 4$ | 4                     |\n",
    "\n",
    "$\\chi^2 = 1+1+0+4=6$\n",
    "\n",
    "Because we're dealing with a squared value, the result of $\\chi^2$ is always positive. So, this will almost always be a right-tailed test."
   ]
  },
  {
   "cell_type": "markdown",
   "id": "fe7826c3",
   "metadata": {},
   "source": []
  }
 ],
 "metadata": {
  "language_info": {
   "name": "python"
  }
 },
 "nbformat": 4,
 "nbformat_minor": 5
}
