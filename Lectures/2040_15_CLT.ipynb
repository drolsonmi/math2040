{
 "cells": [
  {
   "cell_type": "code",
   "execution_count": null,
   "id": "7110e29e",
   "metadata": {},
   "outputs": [],
   "source": [
    "import numpy as np\n",
    "\n",
    "import matplotlib.pyplot as plt\n",
    "import time\n",
    "\n",
    "# Simulate rolling 10 dice and finding proportion of 1s, repeated many times\n",
    "n_dice = 100\n",
    "n_simulations = 3\n",
    "\n",
    "proportions = []\n",
    "for _ in range(n_simulations):\n",
    "    rolls = np.random.randint(1, 7, size=n_dice)\n",
    "    proportion_ones = np.sum(rolls == 1) / n_dice\n",
    "    proportions.append(proportion_ones)\n",
    "\n",
    "# Plot the sampling distribution\n",
    "plt.hist(proportions, bins=np.arange(-0.05, 1.05, 0.03), edgecolor='black')\n",
    "plt.xlabel(\"Proportion of 1's\")\n",
    "plt.ylabel('Frequency')\n",
    "plt.title(f\"Sampling Distribution of Proportion of 1's ({n_simulations} simulations)\")\n",
    "plt.show()\n",
    "\n",
    "print(\"Mean of sampling distribution:\", np.mean(proportions))\n",
    "print(\"Standard deviation of sampling distribution:\", np.std(proportions))"
   ]
  },
  {
   "cell_type": "code",
   "execution_count": null,
   "id": "c01225d9",
   "metadata": {},
   "outputs": [],
   "source": [
    "print(\"Mean of sampling distribution:\", np.mean(proportions))\n",
    "print(\"Standard deviation of sampling distribution:\", np.std(proportions))"
   ]
  },
  {
   "cell_type": "code",
   "execution_count": null,
   "id": "e9d57b65",
   "metadata": {},
   "outputs": [],
   "source": [
    "# Simulate drawing a value between 0 and 1 from a normal distribution (mean=0.70, std=0.15), repeated many times\n",
    "mean = 0.70\n",
    "std_dev = 0.15\n",
    "\n",
    "normal_samples = np.random.normal(loc=mean, scale=std_dev, size=n_simulations)\n",
    "# Clip values to stay within [0, 1]\n",
    "normal_samples = np.clip(normal_samples, 0, 1)\n",
    "\n",
    "# Plot the sampling distribution\n",
    "plt.hist(normal_samples, bins=np.arange(0, 1.05, 0.03), edgecolor='black')\n",
    "plt.xlabel(\"Sampled Value\")\n",
    "plt.ylabel('Frequency')\n",
    "plt.title(f\"Sampling Distribution from N(0.70, 0.15) ({n_simulations} simulations)\")\n",
    "plt.show()\n",
    "\n",
    "print(\"Mean of sampling distribution:\", np.mean(normal_samples))\n",
    "print(\"Standard deviation of sampling distribution:\", np.std(normal_samples))\n",
    "print(\"ratio: \", np.std(normal_samples)/std_dev)"
   ]
  },
  {
   "cell_type": "code",
   "execution_count": null,
   "id": "ee79dfd7",
   "metadata": {},
   "outputs": [],
   "source": []
  }
 ],
 "metadata": {
  "kernelspec": {
   "display_name": "DataScience",
   "language": "python",
   "name": "python3"
  },
  "language_info": {
   "codemirror_mode": {
    "name": "ipython",
    "version": 3
   },
   "file_extension": ".py",
   "mimetype": "text/x-python",
   "name": "python",
   "nbconvert_exporter": "python",
   "pygments_lexer": "ipython3",
   "version": "3.12.5"
  }
 },
 "nbformat": 4,
 "nbformat_minor": 5
}
