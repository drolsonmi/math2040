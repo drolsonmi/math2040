{
 "cells": [
  {
   "cell_type": "markdown",
   "id": "20fea814",
   "metadata": {},
   "source": [
    "# Lab 4 : Inference"
   ]
  },
  {
   "cell_type": "markdown",
   "id": "1303345a",
   "metadata": {},
   "source": [
    "## Reminders on using Google CoLab:"
   ]
  },
  {
   "cell_type": "markdown",
   "id": "65df64e7",
   "metadata": {},
   "source": [
    "* Every time you reopen the lab, you need to upload the data file again\n",
    "* Every time you reopen the lab, you need to run all cells again from the beginning\n",
    "* If you need to add cells, hover your mouse between two cells and \n",
    "    * select `+ Code` to create a cell for your code\n",
    "    * select `+ Text` to create a cell for discussion on the results, including your answers to the lab's questions \n",
    "\n",
    "You are welcome to save a copy of this project into your own Google folder.\n",
    "* In the `File` menu, select `Save a copy in Drive`\n",
    "* You can now edit the project and save your work"
   ]
  },
  {
   "cell_type": "markdown",
   "id": "86e67200",
   "metadata": {},
   "source": [
    "## Instructions"
   ]
  },
  {
   "cell_type": "markdown",
   "id": "12e223dc",
   "metadata": {},
   "source": [
    "In Lab 4, we are going to utilize what we learned about Normal Distributions in Lab 3 to do inference of samples. We are going to look at these 4 topics:\n",
    "1. Confidence intervals with 1 sample\n",
    "2. Hypothesis testing with 1 sample\n",
    "3. Inference with 2 samples (both confidence intervals and hypothesis testing)\n",
    "4. Chi-squared tests\n",
    "\n",
    "For the example code, I am using the [Duke Forest Housing Dataset](https://www.openintro.org/data/csv/duke_forest.csv) from our [textbook dataset website](https://www.openintro.org/data/). You will want to download the dataset and then load into Google CoLab. \n",
    "\n",
    "After we go through the example code, your job will be to select a dataset from the [textbook dataset website](https://www.openintro.org/data/) and then use these tools to perform an inference. You are welcome to use the same dataset that you used for Labs 1, 2, and/or 3. You should also review the previous labs for tools that you may need in this one:\n",
    "* Lab 1: Graphing\n",
    "* Lab 2: Summary Statistics\n",
    "* Lab 3: Normal Distributions\n",
    "\n",
    "__In this example, I am going to be doing inference using a Categorical variable.__"
   ]
  },
  {
   "cell_type": "markdown",
   "id": "eab75b5b",
   "metadata": {},
   "source": [
    "## Load the Data"
   ]
  },
  {
   "cell_type": "code",
   "execution_count": null,
   "id": "0e4f7ef1",
   "metadata": {},
   "outputs": [],
   "source": [
    "import numpy as np\n",
    "import pandas as pd\n",
    "import scipy.stats as stats\n",
    "\n",
    "import seaborn as sns\n",
    "import matplotlib.pyplot as plt\n",
    "\n",
    "duke = pd.read_csv(\"../Datasets/duke_forest.csv\")\n",
    "duke.head()"
   ]
  },
  {
   "cell_type": "markdown",
   "id": "908dcc18",
   "metadata": {},
   "source": [
    "## Separating data into groups using categorical data"
   ]
  },
  {
   "cell_type": "code",
   "execution_count": 3,
   "id": "864137f9",
   "metadata": {},
   "outputs": [
    {
     "data": {
      "text/plain": [
       "0      True\n",
       "1      True\n",
       "2      True\n",
       "3      True\n",
       "4      True\n",
       "      ...  \n",
       "93     True\n",
       "94    False\n",
       "95     True\n",
       "96    False\n",
       "97    False\n",
       "Name: cooling, Length: 98, dtype: bool"
      ]
     },
     "execution_count": 3,
     "metadata": {},
     "output_type": "execute_result"
    }
   ],
   "source": [
    "# Create a condition and see what data fits\n",
    "duke['cooling'] == 'central'\n",
    "\n",
    "### Notes: ###\n",
    "  # Using the `==` compares the value in the 'cooling' variable to the string 'central'\n",
    "  # Using the `=` assigns a value to a variable and overwrites your data\n",
    "  # Be sure to use `==` when comparing values"
   ]
  },
  {
   "cell_type": "code",
   "execution_count": 4,
   "id": "bdd81635",
   "metadata": {},
   "outputs": [
    {
     "name": "stdout",
     "output_type": "stream",
     "text": [
      "Number of houses with central cooling:  45\n",
      "Total number of houses:  98\n",
      "Proportion of houses with central cooling:  0.45918367346938777\n"
     ]
    }
   ],
   "source": [
    "# In Python, True = 1 and False = 0\n",
    "# Take the sum of the True values to count how many\n",
    "\n",
    "count_central = (duke['cooling'] == 'central').sum()\n",
    "\n",
    "print(\"Number of houses with central cooling: \", count_central)\n",
    "print(\"Total number of houses: \", len(duke))\n",
    "\n",
    "p_central = count_central / len(duke)\n",
    "\n",
    "print(\"Proportion of houses with central cooling: \", p_central)"
   ]
  },
  {
   "cell_type": "markdown",
   "id": "f9081e3b",
   "metadata": {},
   "source": [
    "## Confidence Interval for 1 sample"
   ]
  },
  {
   "cell_type": "markdown",
   "id": "381aa667",
   "metadata": {},
   "source": [
    "Recall the steps for forming a confidence interval:\n",
    "1. Confidence Level\n",
    "2. Critical Value\n",
    "3. Find your Point Estimate ($\\hat{p}$)\n",
    "4. Calculate SE (Standard Error): $SE = \\sqrt{\\frac{\\hat{p}(1-\\hat{p})}{n}}$\n",
    "5. Calculate ME (Margin of Error): $ME = z_c SE$\n",
    "6. Calculate the confidence interval: $p = \\hat{p}\\pm ME$\n",
    "7. Make your conclusion"
   ]
  },
  {
   "cell_type": "markdown",
   "id": "83f9a1c8",
   "metadata": {},
   "source": [
    "__Question__: Find the 95% confidence interval for the proprtion of houses with centralized cooling in the Duke Forest area."
   ]
  },
  {
   "cell_type": "code",
   "execution_count": 5,
   "id": "c090df1d",
   "metadata": {},
   "outputs": [
    {
     "name": "stdout",
     "output_type": "stream",
     "text": [
      "95% confidence interval for proportion of houses with central cooling:\n",
      "Lower bound =  0.36052093416893494\n",
      "Upper bound =  0.5578464127698406\n"
     ]
    }
   ],
   "source": [
    "# Longhand method for centralized cooling confidence interval\n",
    "C = 0.95\n",
    "alpha = (1-C)/2\n",
    "\n",
    "zcrit = stats.norm.ppf(alpha)  # This gives the critical value of the left tail, so it will be negative\n",
    "zcrit = abs(zcrit)             # Critical value should be positive\n",
    "\n",
    "me_central = zcrit * np.sqrt((p_central * (1 - p_central)) / len(duke))\n",
    "\n",
    "print(\"95% confidence interval for proportion of houses with central cooling:\")\n",
    "print(\"Lower bound = \", p_central - me_central)\n",
    "print(\"Upper bound = \", p_central + me_central)"
   ]
  },
  {
   "cell_type": "code",
   "execution_count": 6,
   "id": "3fc39ee9",
   "metadata": {},
   "outputs": [
    {
     "name": "stdout",
     "output_type": "stream",
     "text": [
      "95% confidence interval for proportion of houses with central cooling:  (np.float64(0.36052093416893494), np.float64(0.5578464127698406))\n"
     ]
    }
   ],
   "source": [
    "# Python shortcut for centralized cooling confidence interval\n",
    "\n",
    "###  NOTE:  You do not have to do both methods. This is just to show you that they give the same result.  ###\n",
    "\n",
    "C = 0.95\n",
    "\n",
    "se_central = np.sqrt((p_central * (1 - p_central)) / len(duke))\n",
    "ci_central = stats.norm.interval(C, loc=p_central, scale=se_central)\n",
    "\n",
    "print(\"95% confidence interval for proportion of houses with central cooling: \", ci_central)"
   ]
  },
  {
   "cell_type": "markdown",
   "id": "195f879b",
   "metadata": {},
   "source": [
    "## Hypothesis Test for 1 sample"
   ]
  },
  {
   "cell_type": "markdown",
   "id": "ef74a1c1",
   "metadata": {},
   "source": [
    "Recall the steps for performing a Hypothesis Testing:\n",
    "1. Determine the null value\n",
    "2. Hypotheses\n",
    "3. Level of Significance\n",
    "4. Point Estimate ($\\hat{p}$) and Standard Error\n",
    "5. Calculate Test Statistic ($Z=\\frac{\\hat{p}-p_0}{SE}$)\n",
    "6. Calculate the p-value and compare to level of significance\n",
    "7. Make your conclusion"
   ]
  },
  {
   "cell_type": "markdown",
   "id": "496c0c56",
   "metadata": {},
   "source": [
    "__Question__: Do the majority of houses use centralized heating? Use a 5% level of significance.\n",
    "\n",
    "* $p_0 = 0.50$\n",
    "* H0: $p = 0.50$\n",
    "* HA: $p > 0.50$\n",
    "* $\\alpha=0.05$"
   ]
  },
  {
   "cell_type": "code",
   "execution_count": 7,
   "id": "787a708a",
   "metadata": {},
   "outputs": [
    {
     "name": "stdout",
     "output_type": "stream",
     "text": [
      "Test statistic (z) for central cooling hypothesis test:  -0.8081220356417684\n"
     ]
    }
   ],
   "source": [
    "alpha = 0.05\n",
    "null_value = 0.50\n",
    "\n",
    "# Test Statistic\n",
    "se = np.sqrt((null_value * (1 - null_value)) / len(duke))\n",
    "z_central = (p_central - null_value) / se\n",
    "\n",
    "print(\"Test statistic (z) for central cooling hypothesis test: \", z_central) # This will be negative since p_central < null_value"
   ]
  },
  {
   "cell_type": "code",
   "execution_count": 8,
   "id": "52d45b09",
   "metadata": {},
   "outputs": [
    {
     "name": "stdout",
     "output_type": "stream",
     "text": [
      "P-value for central cooling hypothesis test:  0.790489833232842\n",
      "Fail to reject the null hypothesis.\n"
     ]
    }
   ],
   "source": [
    "# P-value\n",
    "p_value_central = 1 - stats.norm.cdf(z_central)  # since this is a right-tailed test\n",
    "print(\"P-value for central cooling hypothesis test: \", p_value_central)\n",
    "\n",
    "if p_value_central < alpha:\n",
    "    print(\"Reject the null hypothesis.\")\n",
    "else:\n",
    "    print(\"Fail to reject the null hypothesis.\")"
   ]
  },
  {
   "cell_type": "markdown",
   "id": "8edbb56a",
   "metadata": {},
   "source": [
    "-----"
   ]
  },
  {
   "cell_type": "markdown",
   "id": "bda3628a",
   "metadata": {},
   "source": [
    "## Your turn to do inference"
   ]
  },
  {
   "cell_type": "markdown",
   "id": "02486298",
   "metadata": {},
   "source": [
    "Your job now is to select a dataset from the [textbook dataset website](https://www.openintro.org/data/) and perform a similar analysis. You are welcome to use the same dataset that you used for Lab 1, Lab 2, and/or Lab 3.\n",
    "\n",
    "### Instructions\n",
    "1. Look at your dataset and create a question that you can answer. \n",
    "    * Look for a clear comparison (Maybe set up a confusion matrix between two variables and see if there are any two variables where the proportion of one variable changes based on another variable)\n",
    "    * Set up your question using this comparison. \n",
    "    * For example, your sample data shows that the percentage of customers who like diet sodas is higher for coke drinkers than it is for pepsi drinkers. So, your question may be, \"Is there a higher proportion of coke drinkers who prefer diet soda than there is for pepsi drinkers?\"\n",
    "2. Determine a null value\n",
    "3. Determine your null and alternate hypotheses\n",
    "4. Determine your level of significance\n",
    "    * Make sure you do this *before* doing any calculations\n",
    "5. Perform the hypothesis test\n",
    "    * Find the test statistic\n",
    "    * Find the p-value\n",
    "    * Determine whether you reject H0 or not\n",
    "    * Make a conclusion\n",
    "6. Find the 95% confidence interval of your study\n",
    "\n",
    "Note that your question may be for 1 sample or for two. You can choose what you need to answer your question."
   ]
  },
  {
   "cell_type": "code",
   "execution_count": null,
   "id": "226c64c1",
   "metadata": {},
   "outputs": [],
   "source": []
  },
  {
   "cell_type": "code",
   "execution_count": null,
   "id": "d3675294",
   "metadata": {},
   "outputs": [],
   "source": []
  },
  {
   "cell_type": "code",
   "execution_count": null,
   "id": "5cf459b5",
   "metadata": {},
   "outputs": [],
   "source": []
  },
  {
   "cell_type": "code",
   "execution_count": null,
   "id": "828164a1",
   "metadata": {},
   "outputs": [],
   "source": []
  },
  {
   "cell_type": "markdown",
   "id": "2f3a487e",
   "metadata": {},
   "source": [
    "-----\n",
    "To submit your assignment,\n",
    "* Click on the `Share` button above\n",
    "* Under General Access, select `Anyone with the link`\n",
    "* Copy the link\n",
    "* Paste the link into Canvas\n",
    "* Click `Submit`"
   ]
  }
 ],
 "metadata": {
  "kernelspec": {
   "display_name": "DataScience",
   "language": "python",
   "name": "python3"
  },
  "language_info": {
   "codemirror_mode": {
    "name": "ipython",
    "version": 3
   },
   "file_extension": ".py",
   "mimetype": "text/x-python",
   "name": "python",
   "nbconvert_exporter": "python",
   "pygments_lexer": "ipython3",
   "version": "3.12.5"
  }
 },
 "nbformat": 4,
 "nbformat_minor": 5
}
