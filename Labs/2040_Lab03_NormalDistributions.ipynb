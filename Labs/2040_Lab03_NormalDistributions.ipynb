{
 "cells": [
  {
   "cell_type": "markdown",
   "id": "20fea814",
   "metadata": {},
   "source": [
    "# Lab 3 : Normal Distributions"
   ]
  },
  {
   "cell_type": "markdown",
   "id": "1303345a",
   "metadata": {},
   "source": [
    "## Reminders on using Google CoLab:"
   ]
  },
  {
   "cell_type": "markdown",
   "id": "65df64e7",
   "metadata": {},
   "source": [
    "* Every time you reopen the lab, you need to upload the data file again\n",
    "* Every time you reopen the lab, you need to run all cells again from the beginning\n",
    "* If you need to add cells, hover your mouse between two cells and \n",
    "    * select `+ Code` to create a cell for your code\n",
    "    * select `+ Text` to create a cell for discussion on the results, including your answers to the lab's questions \n",
    "\n",
    "You are welcome to save a copy of this project into your own Google folder.\n",
    "* In the `File` menu, select `Save a copy in Drive`\n",
    "* You can now edit the project and save your work"
   ]
  },
  {
   "cell_type": "markdown",
   "id": "86e67200",
   "metadata": {},
   "source": [
    "## Instructions"
   ]
  },
  {
   "cell_type": "markdown",
   "id": "12e223dc",
   "metadata": {},
   "source": [
    "In Lab 2, you are going to do an analysis of a dataset. Below, I have included code to help you find,\n",
    "* Summary Statistics (Mean, Standard Deviation, and the 5-number Summary)\n",
    "* Probability Distributions (counting each category then dividing by the total)\n",
    "\n",
    "For the example code, I am using the [Duke Forest Housing Dataset](https://www.openintro.org/data/csv/duke_forest.csv) from our [textbook dataset website](https://www.openintro.org/data/). You will want to download the dataset and then load into Google CoLab. \n",
    "\n",
    "After doing completing the example code, your job will be to select a dataset from the [textbook dataset website](https://www.openintro.org/data/) and perform a similar analysis. You are welcome to use the same dataset that you used for Lab 1. Remember that *an analysis is not complete without appropriate graphs*. Go back to Lab 1 to remember how to make the different types of graphs."
   ]
  },
  {
   "cell_type": "markdown",
   "id": "eab75b5b",
   "metadata": {},
   "source": [
    "## Load the Data"
   ]
  },
  {
   "cell_type": "code",
   "execution_count": 6,
   "id": "0e4f7ef1",
   "metadata": {},
   "outputs": [],
   "source": [
    "import numpy as np\n",
    "import pandas as pd\n",
    "import scipy.stats as stats\n",
    "\n",
    "import seaborn as sns\n",
    "import matplotlib.pyplot as plt"
   ]
  },
  {
   "cell_type": "code",
   "execution_count": 7,
   "id": "e5a565fd",
   "metadata": {},
   "outputs": [
    {
     "data": {
      "text/html": [
       "<div>\n",
       "<style scoped>\n",
       "    .dataframe tbody tr th:only-of-type {\n",
       "        vertical-align: middle;\n",
       "    }\n",
       "\n",
       "    .dataframe tbody tr th {\n",
       "        vertical-align: top;\n",
       "    }\n",
       "\n",
       "    .dataframe thead th {\n",
       "        text-align: right;\n",
       "    }\n",
       "</style>\n",
       "<table border=\"1\" class=\"dataframe\">\n",
       "  <thead>\n",
       "    <tr style=\"text-align: right;\">\n",
       "      <th></th>\n",
       "      <th>address</th>\n",
       "      <th>price</th>\n",
       "      <th>bed</th>\n",
       "      <th>bath</th>\n",
       "      <th>area</th>\n",
       "      <th>type</th>\n",
       "      <th>year_built</th>\n",
       "      <th>heating</th>\n",
       "      <th>cooling</th>\n",
       "      <th>parking</th>\n",
       "      <th>lot</th>\n",
       "      <th>hoa</th>\n",
       "      <th>url</th>\n",
       "    </tr>\n",
       "  </thead>\n",
       "  <tbody>\n",
       "    <tr>\n",
       "      <th>0</th>\n",
       "      <td>1 Learned Pl, Durham, NC 27705</td>\n",
       "      <td>1520000</td>\n",
       "      <td>3</td>\n",
       "      <td>4.0</td>\n",
       "      <td>6040</td>\n",
       "      <td>Single Family</td>\n",
       "      <td>1972</td>\n",
       "      <td>Other, Gas</td>\n",
       "      <td>central</td>\n",
       "      <td>0 spaces</td>\n",
       "      <td>0.97</td>\n",
       "      <td>NaN</td>\n",
       "      <td>https://www.zillow.com/homedetails/1-Learned-P...</td>\n",
       "    </tr>\n",
       "    <tr>\n",
       "      <th>1</th>\n",
       "      <td>1616 Pinecrest Rd, Durham, NC 27705</td>\n",
       "      <td>1030000</td>\n",
       "      <td>5</td>\n",
       "      <td>4.0</td>\n",
       "      <td>4475</td>\n",
       "      <td>Single Family</td>\n",
       "      <td>1969</td>\n",
       "      <td>Forced air, Gas</td>\n",
       "      <td>central</td>\n",
       "      <td>Carport, Covered</td>\n",
       "      <td>1.38</td>\n",
       "      <td>NaN</td>\n",
       "      <td>https://www.zillow.com/homedetails/1616-Pinecr...</td>\n",
       "    </tr>\n",
       "    <tr>\n",
       "      <th>2</th>\n",
       "      <td>2418 Wrightwood Ave, Durham, NC 27705</td>\n",
       "      <td>420000</td>\n",
       "      <td>2</td>\n",
       "      <td>3.0</td>\n",
       "      <td>1745</td>\n",
       "      <td>Single Family</td>\n",
       "      <td>1959</td>\n",
       "      <td>Forced air, Gas</td>\n",
       "      <td>central</td>\n",
       "      <td>Garage - Attached, Covered</td>\n",
       "      <td>0.51</td>\n",
       "      <td>NaN</td>\n",
       "      <td>https://www.zillow.com/homedetails/2418-Wright...</td>\n",
       "    </tr>\n",
       "    <tr>\n",
       "      <th>3</th>\n",
       "      <td>2527 Sevier St, Durham, NC 27705</td>\n",
       "      <td>680000</td>\n",
       "      <td>4</td>\n",
       "      <td>3.0</td>\n",
       "      <td>2091</td>\n",
       "      <td>Single Family</td>\n",
       "      <td>1961</td>\n",
       "      <td>Heat pump, Other, Electric, Gas</td>\n",
       "      <td>central</td>\n",
       "      <td>Carport, Covered</td>\n",
       "      <td>0.84</td>\n",
       "      <td>NaN</td>\n",
       "      <td>https://www.zillow.com/homedetails/2527-Sevier...</td>\n",
       "    </tr>\n",
       "    <tr>\n",
       "      <th>4</th>\n",
       "      <td>2218 Myers St, Durham, NC 27707</td>\n",
       "      <td>428500</td>\n",
       "      <td>4</td>\n",
       "      <td>3.0</td>\n",
       "      <td>1772</td>\n",
       "      <td>Single Family</td>\n",
       "      <td>2020</td>\n",
       "      <td>Forced air, Gas</td>\n",
       "      <td>central</td>\n",
       "      <td>0 spaces</td>\n",
       "      <td>0.16</td>\n",
       "      <td>NaN</td>\n",
       "      <td>https://www.zillow.com/homedetails/2218-Myers-...</td>\n",
       "    </tr>\n",
       "  </tbody>\n",
       "</table>\n",
       "</div>"
      ],
      "text/plain": [
       "                                 address    price  bed  bath  area  \\\n",
       "0         1 Learned Pl, Durham, NC 27705  1520000    3   4.0  6040   \n",
       "1    1616 Pinecrest Rd, Durham, NC 27705  1030000    5   4.0  4475   \n",
       "2  2418 Wrightwood Ave, Durham, NC 27705   420000    2   3.0  1745   \n",
       "3       2527 Sevier St, Durham, NC 27705   680000    4   3.0  2091   \n",
       "4        2218 Myers St, Durham, NC 27707   428500    4   3.0  1772   \n",
       "\n",
       "            type  year_built                          heating  cooling  \\\n",
       "0  Single Family        1972                       Other, Gas  central   \n",
       "1  Single Family        1969                  Forced air, Gas  central   \n",
       "2  Single Family        1959                  Forced air, Gas  central   \n",
       "3  Single Family        1961  Heat pump, Other, Electric, Gas  central   \n",
       "4  Single Family        2020                  Forced air, Gas  central   \n",
       "\n",
       "                      parking   lot  hoa  \\\n",
       "0                    0 spaces  0.97  NaN   \n",
       "1            Carport, Covered  1.38  NaN   \n",
       "2  Garage - Attached, Covered  0.51  NaN   \n",
       "3            Carport, Covered  0.84  NaN   \n",
       "4                    0 spaces  0.16  NaN   \n",
       "\n",
       "                                                 url  \n",
       "0  https://www.zillow.com/homedetails/1-Learned-P...  \n",
       "1  https://www.zillow.com/homedetails/1616-Pinecr...  \n",
       "2  https://www.zillow.com/homedetails/2418-Wright...  \n",
       "3  https://www.zillow.com/homedetails/2527-Sevier...  \n",
       "4  https://www.zillow.com/homedetails/2218-Myers-...  "
      ]
     },
     "execution_count": 7,
     "metadata": {},
     "output_type": "execute_result"
    }
   ],
   "source": [
    "duke = pd.read_csv(\"../Datasets/duke_forest.csv\")\n",
    "duke.head()"
   ]
  },
  {
   "cell_type": "markdown",
   "id": "f9081e3b",
   "metadata": {},
   "source": [
    "## Create normal distribution"
   ]
  },
  {
   "cell_type": "code",
   "execution_count": 8,
   "id": "c04170d3",
   "metadata": {},
   "outputs": [],
   "source": [
    "m = duke['price'].mean()\n",
    "sd = duke['price'].std()"
   ]
  },
  {
   "cell_type": "code",
   "execution_count": 9,
   "id": "d241569f",
   "metadata": {},
   "outputs": [
    {
     "data": {
      "image/png": "[encoded data removed]",
      "text/plain": [
       "<Figure size 640x480 with 1 Axes>"
      ]
     },
     "metadata": {},
     "output_type": "display_data"
    }
   ],
   "source": [
    "### Just showing the normal distribution ###\n",
    "x = np.linspace(m - 4*sd, m + 4*sd, 100)\n",
    "y = (1/(sd * np.sqrt(2 * np.pi))) * np.exp( -0.5 * ((x - m)/sd)**2 )\n",
    "\n",
    "plt.plot(x, y)\n",
    "plt.hist(duke['price'], density=True, bins=30, alpha=0.5)\n",
    "plt.title('Duke Forest Home Prices')\n",
    "plt.show()"
   ]
  },
  {
   "cell_type": "code",
   "execution_count": null,
   "id": "044c8caa",
   "metadata": {},
   "outputs": [],
   "source": [
    "# Is your data normal?\n",
    "duke['price'].describe()"
   ]
  },
  {
   "cell_type": "code",
   "execution_count": 14,
   "id": "6a7df86c",
   "metadata": {},
   "outputs": [
    {
     "name": "stdout",
     "output_type": "stream",
     "text": [
      "Test Statistic: 0.9058386892761946, p-value: 3.2855376648516188e-06\n"
     ]
    }
   ],
   "source": [
    "test_statistic, p_value = stats.shapiro(duke['price'])  # if p-value < 0.05, data is not normal\n",
    "print(f\"Test Statistic: {test_statistic}, p-value: {p_value}\")"
   ]
  },
  {
   "cell_type": "code",
   "execution_count": null,
   "id": "527b3198",
   "metadata": {},
   "outputs": [
    {
     "data": {
      "text/plain": [
       "np.float64(0.5705889981880828)"
      ]
     },
     "execution_count": 10,
     "metadata": {},
     "output_type": "execute_result"
    }
   ],
   "source": [
    "# Finding the CDF\n",
    "stats.norm.cdf(600000, loc=m, scale=sd)  # P(X < 600000)"
   ]
  },
  {
   "cell_type": "code",
   "execution_count": null,
   "id": "e12201ef",
   "metadata": {},
   "outputs": [
    {
     "data": {
      "text/plain": [
       "np.float64(0.5)"
      ]
     },
     "execution_count": 11,
     "metadata": {},
     "output_type": "execute_result"
    }
   ],
   "source": [
    "# What is the CDF of the mean?\n",
    "stats.norm.cdf(m, loc=m, scale=sd)  # P(X < mean)"
   ]
  },
  {
   "cell_type": "code",
   "execution_count": null,
   "id": "8825882f",
   "metadata": {},
   "outputs": [],
   "source": [
    "# What is the CDF between 2 values?\n",
    "upper_bound = 700000\n",
    "lower_bound = 500000\n",
    "upper_cdf = stats.norm.cdf(upper_bound, loc=m, scale=sd)\n",
    "lower_cdf = stats.norm.cdf(lower_bound, loc=m, scale=sd)\n",
    "\n",
    "print(upper_cdf - lower_cdf)  # P(500000 < X < 700000)"
   ]
  },
  {
   "cell_type": "code",
   "execution_count": null,
   "id": "a53f5afb",
   "metadata": {},
   "outputs": [],
   "source": [
    "# What value represents the 90th percentile?\n",
    "stats.norm.ppf(0.9, loc=m, scale=sd)  # 90th percentile"
   ]
  },
  {
   "cell_type": "markdown",
   "id": "97f56fd0",
   "metadata": {},
   "source": [
    "-----\n",
    "## Your turn to do the analysis"
   ]
  },
  {
   "cell_type": "markdown",
   "id": "02486298",
   "metadata": {},
   "source": [
    "Your job now is to select a dataset from the [textbook dataset website](https://www.openintro.org/data/) and perform a similar analysis. You are welcome to use the same dataset that you used for Lab 1 and/or Lab 2. Remember that *an analysis is not complete without appropriate graphs*. Go back to Lab 1 to remember how to make the different types of graphs. Also refer back to Lab 2 for other anaylsis tools\n",
    "\n",
    "Once your analysis is complete, answer the following questions:\n",
    "* What variables from your data are normally distributed? What was the p-value from the Shapiro test?\n",
    "  * What does this tell us?\n",
    "* For your normal variables, identify the mean and standard deviation.\n",
    "* How much of your data is below 40% of your mean? (That is, what is $P(X < 0.4\\bar{x})$?)\n",
    "* How much of your data is above 70% of your mean?\n",
    "* How much of your data is between 25% and 40% of your mean?\n",
    "* Before calculating, decide which of the following percentiles is above the mean and which are below the mean\n",
    "  * [25th, 33rd, 51st, 60th, 90th]\n",
    "* Find each of the following percentiles. Do they agree with your estimates from the previous question?\n",
    "  * [25th, 33rd, 51st, 60th, 90th]"
   ]
  },
  {
   "cell_type": "code",
   "execution_count": null,
   "id": "226c64c1",
   "metadata": {},
   "outputs": [],
   "source": []
  },
  {
   "cell_type": "code",
   "execution_count": null,
   "id": "d3675294",
   "metadata": {},
   "outputs": [],
   "source": []
  },
  {
   "cell_type": "code",
   "execution_count": null,
   "id": "5cf459b5",
   "metadata": {},
   "outputs": [],
   "source": []
  },
  {
   "cell_type": "code",
   "execution_count": null,
   "id": "828164a1",
   "metadata": {},
   "outputs": [],
   "source": []
  },
  {
   "cell_type": "markdown",
   "id": "2f3a487e",
   "metadata": {},
   "source": [
    "-----\n",
    "To submit your assignment,\n",
    "* Click on the `Share` button above\n",
    "* Under General Access, select `Anyone with the link`\n",
    "* Copy the link\n",
    "* Paste the link into Canvas\n",
    "* Click `Submit`"
   ]
  }
 ],
 "metadata": {
  "kernelspec": {
   "display_name": "DataScience",
   "language": "python",
   "name": "python3"
  },
  "language_info": {
   "codemirror_mode": {
    "name": "ipython",
    "version": 3
   },
   "file_extension": ".py",
   "mimetype": "text/x-python",
   "name": "python",
   "nbconvert_exporter": "python",
   "pygments_lexer": "ipython3",
   "version": "3.12.5"
  }
 },
 "nbformat": 4,
 "nbformat_minor": 5
}
