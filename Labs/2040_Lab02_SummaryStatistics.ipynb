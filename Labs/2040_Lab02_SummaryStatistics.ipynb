{
 "cells": [
  {
   "cell_type": "markdown",
   "id": "20fea814",
   "metadata": {},
   "source": [
    "# Lab 2 : Summary Statistics and Probabilities"
   ]
  },
  {
   "cell_type": "markdown",
   "id": "1303345a",
   "metadata": {},
   "source": [
    "## Reminders on using Google CoLab:"
   ]
  },
  {
   "cell_type": "markdown",
   "id": "65df64e7",
   "metadata": {},
   "source": [
    "* Every time you reopen the lab, you need to upload the data file again\n",
    "* Every time you reopen the lab, you need to run all cells again from the beginning\n",
    "* If you need to add cells, hover your mouse between two cells and \n",
    "    * select `+ Code` to create a cell for your code\n",
    "    * select `+ Text` to create a cell for discussion on the results, including your answers to the lab's questions \n",
    "\n",
    "You are welcome to save a copy of this project into your own Google folder.\n",
    "* In the `File` menu, select `Save a copy in Drive`\n",
    "* You can now edit the project and save your work"
   ]
  },
  {
   "cell_type": "markdown",
   "id": "86e67200",
   "metadata": {},
   "source": [
    "## Instructions"
   ]
  },
  {
   "cell_type": "markdown",
   "id": "12e223dc",
   "metadata": {},
   "source": [
    "In Lab 2, you are going to do an analysis of a dataset. Below, I have included code to help you find,\n",
    "* Summary Statistics (Mean, Standard Deviation, and the 5-number Summary)\n",
    "* Probability Distributions (counting each category then dividing by the total)\n",
    "\n",
    "For the example code, I am using the [Duke Forest Housing Dataset](https://www.openintro.org/data/csv/duke_forest.csv) from our [textbook dataset website](https://www.openintro.org/data/). You will want to download the dataset and then load into Google CoLab. \n",
    "\n",
    "After doing completing the example code, your job will be to select a dataset from the [textbook dataset website](https://www.openintro.org/data/) and perform a similar analysis. You are welcome to use the same dataset that you used for Lab 1. Remember that *an analysis is not complete without appropriate graphs*. Go back to Lab 1 to remember how to make the different types of graphs."
   ]
  },
  {
   "cell_type": "markdown",
   "id": "eab75b5b",
   "metadata": {},
   "source": [
    "## Load the Data"
   ]
  },
  {
   "cell_type": "code",
   "execution_count": 6,
   "id": "0e4f7ef1",
   "metadata": {},
   "outputs": [],
   "source": [
    "import numpy as np\n",
    "import pandas as pd\n",
    "import seaborn as sns\n",
    "import matplotlib.pyplot as plt"
   ]
  },
  {
   "cell_type": "code",
   "execution_count": 4,
   "id": "e5a565fd",
   "metadata": {},
   "outputs": [
    {
     "data": {
      "text/html": [
       "<div>\n",
       "<style scoped>\n",
       "    .dataframe tbody tr th:only-of-type {\n",
       "        vertical-align: middle;\n",
       "    }\n",
       "\n",
       "    .dataframe tbody tr th {\n",
       "        vertical-align: top;\n",
       "    }\n",
       "\n",
       "    .dataframe thead th {\n",
       "        text-align: right;\n",
       "    }\n",
       "</style>\n",
       "<table border=\"1\" class=\"dataframe\">\n",
       "  <thead>\n",
       "    <tr style=\"text-align: right;\">\n",
       "      <th></th>\n",
       "      <th>address</th>\n",
       "      <th>price</th>\n",
       "      <th>bed</th>\n",
       "      <th>bath</th>\n",
       "      <th>area</th>\n",
       "      <th>type</th>\n",
       "      <th>year_built</th>\n",
       "      <th>heating</th>\n",
       "      <th>cooling</th>\n",
       "      <th>parking</th>\n",
       "      <th>lot</th>\n",
       "      <th>hoa</th>\n",
       "      <th>url</th>\n",
       "    </tr>\n",
       "  </thead>\n",
       "  <tbody>\n",
       "    <tr>\n",
       "      <th>0</th>\n",
       "      <td>1 Learned Pl, Durham, NC 27705</td>\n",
       "      <td>1520000</td>\n",
       "      <td>3</td>\n",
       "      <td>4.0</td>\n",
       "      <td>6040</td>\n",
       "      <td>Single Family</td>\n",
       "      <td>1972</td>\n",
       "      <td>Other, Gas</td>\n",
       "      <td>central</td>\n",
       "      <td>0 spaces</td>\n",
       "      <td>0.97</td>\n",
       "      <td>NaN</td>\n",
       "      <td>https://www.zillow.com/homedetails/1-Learned-P...</td>\n",
       "    </tr>\n",
       "    <tr>\n",
       "      <th>1</th>\n",
       "      <td>1616 Pinecrest Rd, Durham, NC 27705</td>\n",
       "      <td>1030000</td>\n",
       "      <td>5</td>\n",
       "      <td>4.0</td>\n",
       "      <td>4475</td>\n",
       "      <td>Single Family</td>\n",
       "      <td>1969</td>\n",
       "      <td>Forced air, Gas</td>\n",
       "      <td>central</td>\n",
       "      <td>Carport, Covered</td>\n",
       "      <td>1.38</td>\n",
       "      <td>NaN</td>\n",
       "      <td>https://www.zillow.com/homedetails/1616-Pinecr...</td>\n",
       "    </tr>\n",
       "    <tr>\n",
       "      <th>2</th>\n",
       "      <td>2418 Wrightwood Ave, Durham, NC 27705</td>\n",
       "      <td>420000</td>\n",
       "      <td>2</td>\n",
       "      <td>3.0</td>\n",
       "      <td>1745</td>\n",
       "      <td>Single Family</td>\n",
       "      <td>1959</td>\n",
       "      <td>Forced air, Gas</td>\n",
       "      <td>central</td>\n",
       "      <td>Garage - Attached, Covered</td>\n",
       "      <td>0.51</td>\n",
       "      <td>NaN</td>\n",
       "      <td>https://www.zillow.com/homedetails/2418-Wright...</td>\n",
       "    </tr>\n",
       "    <tr>\n",
       "      <th>3</th>\n",
       "      <td>2527 Sevier St, Durham, NC 27705</td>\n",
       "      <td>680000</td>\n",
       "      <td>4</td>\n",
       "      <td>3.0</td>\n",
       "      <td>2091</td>\n",
       "      <td>Single Family</td>\n",
       "      <td>1961</td>\n",
       "      <td>Heat pump, Other, Electric, Gas</td>\n",
       "      <td>central</td>\n",
       "      <td>Carport, Covered</td>\n",
       "      <td>0.84</td>\n",
       "      <td>NaN</td>\n",
       "      <td>https://www.zillow.com/homedetails/2527-Sevier...</td>\n",
       "    </tr>\n",
       "    <tr>\n",
       "      <th>4</th>\n",
       "      <td>2218 Myers St, Durham, NC 27707</td>\n",
       "      <td>428500</td>\n",
       "      <td>4</td>\n",
       "      <td>3.0</td>\n",
       "      <td>1772</td>\n",
       "      <td>Single Family</td>\n",
       "      <td>2020</td>\n",
       "      <td>Forced air, Gas</td>\n",
       "      <td>central</td>\n",
       "      <td>0 spaces</td>\n",
       "      <td>0.16</td>\n",
       "      <td>NaN</td>\n",
       "      <td>https://www.zillow.com/homedetails/2218-Myers-...</td>\n",
       "    </tr>\n",
       "  </tbody>\n",
       "</table>\n",
       "</div>"
      ],
      "text/plain": [
       "                                 address    price  bed  bath  area  \\\n",
       "0         1 Learned Pl, Durham, NC 27705  1520000    3   4.0  6040   \n",
       "1    1616 Pinecrest Rd, Durham, NC 27705  1030000    5   4.0  4475   \n",
       "2  2418 Wrightwood Ave, Durham, NC 27705   420000    2   3.0  1745   \n",
       "3       2527 Sevier St, Durham, NC 27705   680000    4   3.0  2091   \n",
       "4        2218 Myers St, Durham, NC 27707   428500    4   3.0  1772   \n",
       "\n",
       "            type  year_built                          heating  cooling  \\\n",
       "0  Single Family        1972                       Other, Gas  central   \n",
       "1  Single Family        1969                  Forced air, Gas  central   \n",
       "2  Single Family        1959                  Forced air, Gas  central   \n",
       "3  Single Family        1961  Heat pump, Other, Electric, Gas  central   \n",
       "4  Single Family        2020                  Forced air, Gas  central   \n",
       "\n",
       "                      parking   lot  hoa  \\\n",
       "0                    0 spaces  0.97  NaN   \n",
       "1            Carport, Covered  1.38  NaN   \n",
       "2  Garage - Attached, Covered  0.51  NaN   \n",
       "3            Carport, Covered  0.84  NaN   \n",
       "4                    0 spaces  0.16  NaN   \n",
       "\n",
       "                                                 url  \n",
       "0  https://www.zillow.com/homedetails/1-Learned-P...  \n",
       "1  https://www.zillow.com/homedetails/1616-Pinecr...  \n",
       "2  https://www.zillow.com/homedetails/2418-Wright...  \n",
       "3  https://www.zillow.com/homedetails/2527-Sevier...  \n",
       "4  https://www.zillow.com/homedetails/2218-Myers-...  "
      ]
     },
     "execution_count": 4,
     "metadata": {},
     "output_type": "execute_result"
    }
   ],
   "source": [
    "duke = pd.read_csv(\"../Datasets/duke_forest.csv\")\n",
    "duke.head()"
   ]
  },
  {
   "cell_type": "markdown",
   "id": "f9081e3b",
   "metadata": {},
   "source": [
    "## Summary Statistics for Quantitative Variables"
   ]
  },
  {
   "cell_type": "code",
   "execution_count": null,
   "id": "c04170d3",
   "metadata": {},
   "outputs": [
    {
     "name": "stdout",
     "output_type": "stream",
     "text": [
      "             Mean =  3.107142857142857\n",
      "    Sample St Dev =  0.9340356954701309\n",
      "Population St Dev =  0.9292579879469777\n",
      "Min    =  1.0\n",
      "Q1     =  2.5\n",
      "Median =  3.0\n",
      "Q3     =  4.0\n",
      "Max    =  6.0\n"
     ]
    }
   ],
   "source": [
    "print(\"             Mean = \", duke['bath'].mean())\n",
    "print(\"    Sample St Dev = \", duke['bath'].std())\n",
    "print(\"Population St Dev = \", duke['bath'].std(ddof=0))\n",
    "print(\"Min    = \", duke['bath'].min())\n",
    "print(\"Q1     = \", duke['bath'].quantile(0.25))\n",
    "print(\"Median = \", duke['bath'].median())\n",
    "print(\"Q3     = \", duke['bath'].quantile(0.75))\n",
    "print(\"Max    = \", duke['bath'].max())"
   ]
  },
  {
   "cell_type": "code",
   "execution_count": 58,
   "id": "d241569f",
   "metadata": {},
   "outputs": [
    {
     "name": "stdout",
     "output_type": "stream",
     "text": [
      "              price        bed       bath         area   year_built        lot\n",
      "count  9.800000e+01  98.000000  98.000000    98.000000    98.000000  97.000000\n",
      "mean   5.598987e+05   3.744898   3.107143  2779.265306  1967.051020   0.571134\n",
      "std    2.254481e+05   0.750412   0.934036   943.205300    18.393955   0.219155\n",
      "min    9.500000e+04   2.000000   1.000000  1094.000000  1923.000000   0.150000\n",
      "25%    4.506250e+05   3.000000   2.500000  2132.750000  1956.250000   0.450000\n",
      "50%    5.400000e+05   4.000000   3.000000  2623.000000  1962.000000   0.550000\n",
      "75%    6.437500e+05   4.000000   4.000000  3253.750000  1972.000000   0.650000\n",
      "max    1.520000e+06   6.000000   6.000000  6178.000000  2020.000000   1.470000\n"
     ]
    }
   ],
   "source": [
    "print(duke.describe())"
   ]
  },
  {
   "cell_type": "markdown",
   "id": "9661370f",
   "metadata": {},
   "source": [
    "## Proportions"
   ]
  },
  {
   "cell_type": "markdown",
   "id": "3edb357b",
   "metadata": {},
   "source": [
    "### 1-Variable Proportions"
   ]
  },
  {
   "cell_type": "code",
   "execution_count": null,
   "id": "f25663c4",
   "metadata": {},
   "outputs": [
    {
     "data": {
      "text/plain": [
       "cooling\n",
       "other      53\n",
       "central    45\n",
       "Name: count, dtype: int64"
      ]
     },
     "execution_count": 23,
     "metadata": {},
     "output_type": "execute_result"
    }
   ],
   "source": [
    "# Let's get a count of each category in the cooling variable (a categorical variable)\n",
    "cooling = duke['cooling'].value_counts()\n",
    "cooling"
   ]
  },
  {
   "cell_type": "code",
   "execution_count": null,
   "id": "0b381586",
   "metadata": {},
   "outputs": [
    {
     "data": {
      "text/plain": [
       "cooling\n",
       "other      0.540816\n",
       "central    0.459184\n",
       "Name: count, dtype: float64"
      ]
     },
     "execution_count": 50,
     "metadata": {},
     "output_type": "execute_result"
    }
   ],
   "source": [
    "# Turn counts into proportions by dividing by the total\n",
    "cooling_proportions = cooling / cooling.sum()\n",
    "cooling_proportions"
   ]
  },
  {
   "cell_type": "markdown",
   "id": "167c81b0",
   "metadata": {},
   "source": [
    "### 2-Variable Proportions"
   ]
  },
  {
   "cell_type": "code",
   "execution_count": null,
   "id": "7f965889",
   "metadata": {},
   "outputs": [
    {
     "name": "stdout",
     "output_type": "stream",
     "text": [
      "bath  1.0  2.0  2.5  3.0  4.0  4.5  5.0  6.0\n",
      "bed                                         \n",
      "2       1    2    0    1    0    0    0    0\n",
      "3       2   12    3   11    2    0    0    0\n",
      "4       0    4    3   26   16    1    2    0\n",
      "5       0    0    0    3    5    0    2    1\n",
      "6       0    0    0    0    0    0    1    0\n"
     ]
    }
   ],
   "source": [
    "# Find the counts for each combination of bed and bath (2 categorical variables)\n",
    "    # Note that 'bed' and 'bath' are quantitative, but we can also treat them as categorical variables\n",
    "bed_bath = pd.crosstab(duke['bed'], duke['bath'])\n",
    "\n",
    "# Let's see the table\n",
    "print(bed_bath)"
   ]
  },
  {
   "cell_type": "code",
   "execution_count": null,
   "id": "190098c1",
   "metadata": {},
   "outputs": [
    {
     "data": {
      "text/html": [
       "<div>\n",
       "<style scoped>\n",
       "    .dataframe tbody tr th:only-of-type {\n",
       "        vertical-align: middle;\n",
       "    }\n",
       "\n",
       "    .dataframe tbody tr th {\n",
       "        vertical-align: top;\n",
       "    }\n",
       "\n",
       "    .dataframe thead th {\n",
       "        text-align: right;\n",
       "    }\n",
       "</style>\n",
       "<table border=\"1\" class=\"dataframe\">\n",
       "  <thead>\n",
       "    <tr style=\"text-align: right;\">\n",
       "      <th>bath</th>\n",
       "      <th>1.0</th>\n",
       "      <th>2.0</th>\n",
       "      <th>2.5</th>\n",
       "      <th>3.0</th>\n",
       "      <th>4.0</th>\n",
       "      <th>4.5</th>\n",
       "      <th>5.0</th>\n",
       "      <th>6.0</th>\n",
       "    </tr>\n",
       "    <tr>\n",
       "      <th>bed</th>\n",
       "      <th></th>\n",
       "      <th></th>\n",
       "      <th></th>\n",
       "      <th></th>\n",
       "      <th></th>\n",
       "      <th></th>\n",
       "      <th></th>\n",
       "      <th></th>\n",
       "    </tr>\n",
       "  </thead>\n",
       "  <tbody>\n",
       "    <tr>\n",
       "      <th>2</th>\n",
       "      <td>1</td>\n",
       "      <td>2</td>\n",
       "      <td>0</td>\n",
       "      <td>1</td>\n",
       "      <td>0</td>\n",
       "      <td>0</td>\n",
       "      <td>0</td>\n",
       "      <td>0</td>\n",
       "    </tr>\n",
       "    <tr>\n",
       "      <th>3</th>\n",
       "      <td>2</td>\n",
       "      <td>12</td>\n",
       "      <td>3</td>\n",
       "      <td>11</td>\n",
       "      <td>2</td>\n",
       "      <td>0</td>\n",
       "      <td>0</td>\n",
       "      <td>0</td>\n",
       "    </tr>\n",
       "    <tr>\n",
       "      <th>4</th>\n",
       "      <td>0</td>\n",
       "      <td>4</td>\n",
       "      <td>3</td>\n",
       "      <td>26</td>\n",
       "      <td>16</td>\n",
       "      <td>1</td>\n",
       "      <td>2</td>\n",
       "      <td>0</td>\n",
       "    </tr>\n",
       "    <tr>\n",
       "      <th>5</th>\n",
       "      <td>0</td>\n",
       "      <td>0</td>\n",
       "      <td>0</td>\n",
       "      <td>3</td>\n",
       "      <td>5</td>\n",
       "      <td>0</td>\n",
       "      <td>2</td>\n",
       "      <td>1</td>\n",
       "    </tr>\n",
       "    <tr>\n",
       "      <th>6</th>\n",
       "      <td>0</td>\n",
       "      <td>0</td>\n",
       "      <td>0</td>\n",
       "      <td>0</td>\n",
       "      <td>0</td>\n",
       "      <td>0</td>\n",
       "      <td>1</td>\n",
       "      <td>0</td>\n",
       "    </tr>\n",
       "  </tbody>\n",
       "</table>\n",
       "</div>"
      ],
      "text/plain": [
       "bath  1.0  2.0  2.5  3.0  4.0  4.5  5.0  6.0\n",
       "bed                                         \n",
       "2       1    2    0    1    0    0    0    0\n",
       "3       2   12    3   11    2    0    0    0\n",
       "4       0    4    3   26   16    1    2    0\n",
       "5       0    0    0    3    5    0    2    1\n",
       "6       0    0    0    0    0    0    1    0"
      ]
     },
     "metadata": {},
     "output_type": "display_data"
    }
   ],
   "source": [
    "# Use display() to format the output nicely\n",
    "display(bed_bath)"
   ]
  },
  {
   "cell_type": "code",
   "execution_count": null,
   "id": "b5ce516f",
   "metadata": {},
   "outputs": [
    {
     "data": {
      "text/plain": [
       "np.int64(98)"
      ]
     },
     "execution_count": 43,
     "metadata": {},
     "output_type": "execute_result"
    }
   ],
   "source": [
    "# We need to find the total number of houses in all the categories\n",
    "bed_bath.sum().sum()"
   ]
  },
  {
   "cell_type": "code",
   "execution_count": null,
   "id": "fb823a87",
   "metadata": {},
   "outputs": [
    {
     "data": {
      "text/html": [
       "<div>\n",
       "<style scoped>\n",
       "    .dataframe tbody tr th:only-of-type {\n",
       "        vertical-align: middle;\n",
       "    }\n",
       "\n",
       "    .dataframe tbody tr th {\n",
       "        vertical-align: top;\n",
       "    }\n",
       "\n",
       "    .dataframe thead th {\n",
       "        text-align: right;\n",
       "    }\n",
       "</style>\n",
       "<table border=\"1\" class=\"dataframe\">\n",
       "  <thead>\n",
       "    <tr style=\"text-align: right;\">\n",
       "      <th>bath</th>\n",
       "      <th>1.0</th>\n",
       "      <th>2.0</th>\n",
       "      <th>2.5</th>\n",
       "      <th>3.0</th>\n",
       "      <th>4.0</th>\n",
       "      <th>4.5</th>\n",
       "      <th>5.0</th>\n",
       "      <th>6.0</th>\n",
       "    </tr>\n",
       "    <tr>\n",
       "      <th>bed</th>\n",
       "      <th></th>\n",
       "      <th></th>\n",
       "      <th></th>\n",
       "      <th></th>\n",
       "      <th></th>\n",
       "      <th></th>\n",
       "      <th></th>\n",
       "      <th></th>\n",
       "    </tr>\n",
       "  </thead>\n",
       "  <tbody>\n",
       "    <tr>\n",
       "      <th>2</th>\n",
       "      <td>0.010204</td>\n",
       "      <td>0.020408</td>\n",
       "      <td>0.000000</td>\n",
       "      <td>0.010204</td>\n",
       "      <td>0.000000</td>\n",
       "      <td>0.000000</td>\n",
       "      <td>0.000000</td>\n",
       "      <td>0.000000</td>\n",
       "    </tr>\n",
       "    <tr>\n",
       "      <th>3</th>\n",
       "      <td>0.020408</td>\n",
       "      <td>0.122449</td>\n",
       "      <td>0.030612</td>\n",
       "      <td>0.112245</td>\n",
       "      <td>0.020408</td>\n",
       "      <td>0.000000</td>\n",
       "      <td>0.000000</td>\n",
       "      <td>0.000000</td>\n",
       "    </tr>\n",
       "    <tr>\n",
       "      <th>4</th>\n",
       "      <td>0.000000</td>\n",
       "      <td>0.040816</td>\n",
       "      <td>0.030612</td>\n",
       "      <td>0.265306</td>\n",
       "      <td>0.163265</td>\n",
       "      <td>0.010204</td>\n",
       "      <td>0.020408</td>\n",
       "      <td>0.000000</td>\n",
       "    </tr>\n",
       "    <tr>\n",
       "      <th>5</th>\n",
       "      <td>0.000000</td>\n",
       "      <td>0.000000</td>\n",
       "      <td>0.000000</td>\n",
       "      <td>0.030612</td>\n",
       "      <td>0.051020</td>\n",
       "      <td>0.000000</td>\n",
       "      <td>0.020408</td>\n",
       "      <td>0.010204</td>\n",
       "    </tr>\n",
       "    <tr>\n",
       "      <th>6</th>\n",
       "      <td>0.000000</td>\n",
       "      <td>0.000000</td>\n",
       "      <td>0.000000</td>\n",
       "      <td>0.000000</td>\n",
       "      <td>0.000000</td>\n",
       "      <td>0.000000</td>\n",
       "      <td>0.010204</td>\n",
       "      <td>0.000000</td>\n",
       "    </tr>\n",
       "  </tbody>\n",
       "</table>\n",
       "</div>"
      ],
      "text/plain": [
       "bath       1.0       2.0       2.5       3.0       4.0       4.5       5.0  \\\n",
       "bed                                                                          \n",
       "2     0.010204  0.020408  0.000000  0.010204  0.000000  0.000000  0.000000   \n",
       "3     0.020408  0.122449  0.030612  0.112245  0.020408  0.000000  0.000000   \n",
       "4     0.000000  0.040816  0.030612  0.265306  0.163265  0.010204  0.020408   \n",
       "5     0.000000  0.000000  0.000000  0.030612  0.051020  0.000000  0.020408   \n",
       "6     0.000000  0.000000  0.000000  0.000000  0.000000  0.000000  0.010204   \n",
       "\n",
       "bath       6.0  \n",
       "bed             \n",
       "2     0.000000  \n",
       "3     0.000000  \n",
       "4     0.000000  \n",
       "5     0.010204  \n",
       "6     0.000000  "
      ]
     },
     "metadata": {},
     "output_type": "display_data"
    }
   ],
   "source": [
    "# Now we turn our counts into proportions by dividing by the total\n",
    "display(bed_bath / bed_bath.sum().sum())"
   ]
  },
  {
   "cell_type": "markdown",
   "id": "97f56fd0",
   "metadata": {},
   "source": [
    "-----\n",
    "## Your turn to do the analysis"
   ]
  },
  {
   "cell_type": "markdown",
   "id": "02486298",
   "metadata": {},
   "source": [
    "Your job now is to select a dataset from the [textbook dataset website](https://www.openintro.org/data/) and perform a similar analysis. You are welcome to use the same dataset that you used for Lab 1. Remember that *an analysis is not complete without appropriate graphs*. Go back to Lab 1 to remember how to make the different types of graphs.\n",
    "\n",
    "Once your analysis is complete, answer the following questions:\n",
    "* Questions about each of your quantitative variables:\n",
    "    1. For each quantitative variable, determine whether the data is normal, bimodal, or uniform\n",
    "    2. How spread out is the data? Is the data tightly clustered around the mean or widely dispersed? Discuss why you chose your answer.\n",
    "    3. For each quantitative variable, use a boxplot and the 5-number summary to determine if the data is symmetrical or skewed. Identify the type of skew if applicable.\n",
    "    4. What is the range of the middle 50% of the data? (That is, what is the interquartile range, or IQR)\n",
    "    5. Are there any unusually high or low values (outliers) in the dataset?\n",
    "* Questions about each of your categorical variables:\n",
    "    1. What's the most common category or outcome? What percentage of the data falls into this category?\n",
    "    2. Are the categories evenly distributed? If not, which category is the least common?\n",
    "    3. Do the proportions of the different categories suggest any interesting patterns or imbalances?"
   ]
  },
  {
   "cell_type": "code",
   "execution_count": null,
   "id": "226c64c1",
   "metadata": {},
   "outputs": [],
   "source": []
  },
  {
   "cell_type": "code",
   "execution_count": null,
   "id": "d3675294",
   "metadata": {},
   "outputs": [],
   "source": []
  },
  {
   "cell_type": "code",
   "execution_count": null,
   "id": "5cf459b5",
   "metadata": {},
   "outputs": [],
   "source": []
  },
  {
   "cell_type": "code",
   "execution_count": null,
   "id": "828164a1",
   "metadata": {},
   "outputs": [],
   "source": []
  },
  {
   "cell_type": "markdown",
   "id": "2f3a487e",
   "metadata": {},
   "source": [
    "-----\n",
    "To submit your assignment,\n",
    "* Click on the `Share` button above\n",
    "* Under General Access, select `Anyone with the link`\n",
    "* Copy the link\n",
    "* Paste the link into Canvas\n",
    "* Click `Submit`"
   ]
  }
 ],
 "metadata": {
  "kernelspec": {
   "display_name": "DataScience",
   "language": "python",
   "name": "python3"
  },
  "language_info": {
   "codemirror_mode": {
    "name": "ipython",
    "version": 3
   },
   "file_extension": ".py",
   "mimetype": "text/x-python",
   "name": "python",
   "nbconvert_exporter": "python",
   "pygments_lexer": "ipython3",
   "version": "3.12.5"
  }
 },
 "nbformat": 4,
 "nbformat_minor": 5
}
