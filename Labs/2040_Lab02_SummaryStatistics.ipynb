{
 "cells": [
  {
   "cell_type": "markdown",
   "id": "20fea814",
   "metadata": {},
   "source": [
    "# Lab 2 : Summary Statistics and Probabilities"
   ]
  },
  {
   "cell_type": "markdown",
   "id": "1303345a",
   "metadata": {},
   "source": [
    "## Reminders on using Google CoLab:"
   ]
  },
  {
   "cell_type": "markdown",
   "id": "65df64e7",
   "metadata": {},
   "source": [
    "* Every time you reopen the lab, you need to upload the data file again\n",
    "* Every time you reopen the lab, you need to run all cells again from the beginning\n",
    "* If you need to add cells, hover your mouse between two cells and \n",
    "    * select `+ Code` to create a cell for your code\n",
    "    * select `+ Text` to create a cell for discussion on the results, including your answers to the lab's questions \n",
    "\n",
    "You are welcome to save a copy of this project into your own Google folder.\n",
    "* In the `File` menu, select `Save a copy in Drive`\n",
    "* You can now edit the project and save your work"
   ]
  },
  {
   "cell_type": "markdown",
   "id": "86e67200",
   "metadata": {},
   "source": [
    "## Instructions"
   ]
  },
  {
   "cell_type": "markdown",
   "id": "12e223dc",
   "metadata": {},
   "source": [
    "In Lab 2, you are going to do an analysis of a dataset. Below, I have included code to help you find,\n",
    "* Summary Statistics (Mean, Standard Deviation, and the 5-number Summary)\n",
    "* Probability Distributions (counting each category then dividing by the total)\n",
    "\n",
    "For the example code, I am using the [Duke Forest Housing Dataset](https://www.openintro.org/data/csv/duke_forest.csv) from our [textbook dataset website](https://www.openintro.org/data/). You will want to download the dataset and then load into Google CoLab. \n",
    "\n",
    "After doing completing the example code, your job will be to select a dataset from the [textbook dataset website](https://www.openintro.org/data/) and perform a similar analysis. You are welcome to use the same dataset that you used for Lab 1. Remember that *an analysis is not complete without appropriate graphs*. Go back to Lab 1 to remember how to make the different types of graphs."
   ]
  },
  {
   "cell_type": "markdown",
   "id": "eab75b5b",
   "metadata": {},
   "source": [
    "## Load the Data"
   ]
  },
  {
   "cell_type": "code",
   "execution_count": null,
   "id": "0e4f7ef1",
   "metadata": {},
   "outputs": [],
   "source": [
    "import numpy as np\n",
    "import pandas as pd\n",
    "import seaborn as sns\n",
    "import matplotlib.pyplot as plt"
   ]
  },
  {
   "cell_type": "code",
   "execution_count": null,
   "id": "e5a565fd",
   "metadata": {},
   "outputs": [],
   "source": [
    "duke = pd.read_csv(\"../Datasets/duke_forest.csv\")\n",
    "duke.head()"
   ]
  },
  {
   "cell_type": "markdown",
   "id": "f9081e3b",
   "metadata": {},
   "source": [
    "## Summary Statistics for Quantitative Variables"
   ]
  },
  {
   "cell_type": "code",
   "execution_count": null,
   "id": "c04170d3",
   "metadata": {},
   "outputs": [],
   "source": [
    "print(\"             Mean = \", duke['bath'].mean())\n",
    "print(\"    Sample St Dev = \", duke['bath'].std())\n",
    "print(\"Population St Dev = \", duke['bath'].std(ddof=0))\n",
    "print(\"Min    = \", duke['bath'].min())\n",
    "print(\"Q1     = \", duke['bath'].quantile(0.25))\n",
    "print(\"Median = \", duke['bath'].median())\n",
    "print(\"Q3     = \", duke['bath'].quantile(0.75))\n",
    "print(\"Max    = \", duke['bath'].max())"
   ]
  },
  {
   "cell_type": "code",
   "execution_count": null,
   "id": "d241569f",
   "metadata": {},
   "outputs": [],
   "source": [
    "print(duke.describe())"
   ]
  },
  {
   "cell_type": "markdown",
   "id": "9661370f",
   "metadata": {},
   "source": [
    "## Proportions"
   ]
  },
  {
   "cell_type": "markdown",
   "id": "3edb357b",
   "metadata": {},
   "source": [
    "### 1-Variable Proportions"
   ]
  },
  {
   "cell_type": "code",
   "execution_count": null,
   "id": "f25663c4",
   "metadata": {},
   "outputs": [],
   "source": [
    "# Let's get a count of each category in the cooling variable (a categorical variable)\n",
    "cooling = duke['cooling'].value_counts()\n",
    "cooling"
   ]
  },
  {
   "cell_type": "code",
   "execution_count": null,
   "id": "0b381586",
   "metadata": {},
   "outputs": [],
   "source": [
    "# Turn counts into proportions by dividing by the total\n",
    "cooling_proportions = cooling / cooling.sum()\n",
    "cooling_proportions"
   ]
  },
  {
   "cell_type": "markdown",
   "id": "167c81b0",
   "metadata": {},
   "source": [
    "### 2-Variable Proportions"
   ]
  },
  {
   "cell_type": "code",
   "execution_count": null,
   "id": "7f965889",
   "metadata": {},
   "outputs": [],
   "source": [
    "# Find the counts for each combination of bed and bath (2 categorical variables)\n",
    "    # Note that 'bed' and 'bath' are quantitative, but we can also treat them as categorical variables\n",
    "bed_bath = pd.crosstab(duke['bed'], duke['bath'])\n",
    "\n",
    "# Let's see the table\n",
    "print(bed_bath)"
   ]
  },
  {
   "cell_type": "code",
   "execution_count": null,
   "id": "190098c1",
   "metadata": {},
   "outputs": [],
   "source": [
    "# Use display() to format the output nicely\n",
    "display(bed_bath)"
   ]
  },
  {
   "cell_type": "code",
   "execution_count": null,
   "id": "b5ce516f",
   "metadata": {},
   "outputs": [],
   "source": [
    "# We need to find the total number of houses in all the categories\n",
    "bed_bath.sum().sum()"
   ]
  },
  {
   "cell_type": "code",
   "execution_count": null,
   "id": "fb823a87",
   "metadata": {},
   "outputs": [],
   "source": [
    "# Now we turn our counts into proportions by dividing by the total\n",
    "display(bed_bath / bed_bath.sum().sum())"
   ]
  },
  {
   "cell_type": "markdown",
   "id": "97f56fd0",
   "metadata": {},
   "source": [
    "-----\n",
    "## Your turn to do the analysis"
   ]
  },
  {
   "cell_type": "markdown",
   "id": "02486298",
   "metadata": {},
   "source": [
    "Your job now is to select a dataset from the [textbook dataset website](https://www.openintro.org/data/) and perform a similar analysis. You are welcome to use the same dataset that you used for Lab 1. Remember that *an analysis is not complete without appropriate graphs*. Go back to Lab 1 to remember how to make the different types of graphs.\n",
    "\n",
    "Once your analysis is complete, answer the following questions:\n",
    "* Questions about each of your quantitative variables:\n",
    "    1. For each quantitative variable, determine whether the data is normal, bimodal, or uniform\n",
    "    2. How spread out is the data? Is the data tightly clustered around the mean or widely dispersed? Discuss why you chose your answer.\n",
    "    3. For each quantitative variable, use a boxplot and the 5-number summary to determine if the data is symmetrical or skewed. Identify the type of skew if applicable.\n",
    "    4. What is the range of the middle 50% of the data? (That is, what is the interquartile range, or IQR)\n",
    "    5. Are there any unusually high or low values (outliers) in the dataset?\n",
    "* Questions about each of your categorical variables:\n",
    "    1. What's the most common category or outcome? What percentage of the data falls into this category?\n",
    "    2. Are the categories evenly distributed? If not, which category is the least common?\n",
    "    3. Do the proportions of the different categories suggest any interesting patterns or imbalances?"
   ]
  },
  {
   "cell_type": "code",
   "execution_count": null,
   "id": "226c64c1",
   "metadata": {},
   "outputs": [],
   "source": []
  },
  {
   "cell_type": "code",
   "execution_count": null,
   "id": "d3675294",
   "metadata": {},
   "outputs": [],
   "source": []
  },
  {
   "cell_type": "code",
   "execution_count": null,
   "id": "5cf459b5",
   "metadata": {},
   "outputs": [],
   "source": []
  },
  {
   "cell_type": "code",
   "execution_count": null,
   "id": "828164a1",
   "metadata": {},
   "outputs": [],
   "source": []
  },
  {
   "cell_type": "markdown",
   "id": "2f3a487e",
   "metadata": {},
   "source": [
    "-----\n",
    "To submit your assignment,\n",
    "* Click on the `Share` button above\n",
    "* Under General Access, select `Anyone with the link`\n",
    "* Copy the link\n",
    "* Paste the link into Canvas\n",
    "* Click `Submit`"
   ]
  },
  {
   "cell_type": "markdown",
   "id": "3b519e79",
   "metadata": {},
   "source": [
    "## Rubric:\n",
    "* (3 pts) Summary Statistics\n",
    "  * Mean\n",
    "  * Standard Deviation\n",
    "  * 5-number summary\n",
    "* (2 pts) Probability Distribution (Count or Percentage)\n",
    "* (5 pts) Questions"
   ]
  }
 ],
 "metadata": {
  "kernelspec": {
   "display_name": "DataScience",
   "language": "python",
   "name": "python3"
  },
  "language_info": {
   "codemirror_mode": {
    "name": "ipython",
    "version": 3
   },
   "file_extension": ".py",
   "mimetype": "text/x-python",
   "name": "python",
   "nbconvert_exporter": "python",
   "pygments_lexer": "ipython3",
   "version": "3.12.5"
  }
 },
 "nbformat": 4,
 "nbformat_minor": 5
}
