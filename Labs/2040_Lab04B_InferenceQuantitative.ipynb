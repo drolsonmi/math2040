{
 "cells": [
  {
   "cell_type": "markdown",
   "id": "20fea814",
   "metadata": {},
   "source": [
    "# Lab 4 : Inference"
   ]
  },
  {
   "cell_type": "markdown",
   "id": "1303345a",
   "metadata": {},
   "source": [
    "## Reminders on using Google CoLab:"
   ]
  },
  {
   "cell_type": "markdown",
   "id": "65df64e7",
   "metadata": {},
   "source": [
    "* Every time you reopen the lab, you need to upload the data file again\n",
    "* Every time you reopen the lab, you need to run all cells again from the beginning\n",
    "* If you need to add cells, hover your mouse between two cells and \n",
    "    * select `+ Code` to create a cell for your code\n",
    "    * select `+ Text` to create a cell for discussion on the results, including your answers to the lab's questions \n",
    "\n",
    "You are welcome to save a copy of this project into your own Google folder.\n",
    "* In the `File` menu, select `Save a copy in Drive`\n",
    "* You can now edit the project and save your work"
   ]
  },
  {
   "cell_type": "markdown",
   "id": "86e67200",
   "metadata": {},
   "source": [
    "## Instructions"
   ]
  },
  {
   "cell_type": "markdown",
   "id": "12e223dc",
   "metadata": {},
   "source": [
    "In Lab 4, we are going to utilize what we learned about Normal Distributions in Lab 3 to do inference of samples. We are going to look at these 4 topics:\n",
    "1. Confidence intervals with 1 sample\n",
    "2. Hypothesis testing with 1 sample\n",
    "3. Inference with 2 samples (both confidence intervals and hypothesis testing)\n",
    "4. Chi-squared tests\n",
    "\n",
    "For the example code, I am using the [Duke Forest Housing Dataset](https://www.openintro.org/data/csv/duke_forest.csv) from our [textbook dataset website](https://www.openintro.org/data/). You will want to download the dataset and then load into Google CoLab. \n",
    "\n",
    "After we go through the example code, your job will be to select a dataset from the [textbook dataset website](https://www.openintro.org/data/) and then use these tools to perform an inference. You are welcome to use the same dataset that you used for Labs 1, 2, and/or 3. You should also review the previous labs for tools that you may need in this one:\n",
    "* Lab 1: Graphing\n",
    "* Lab 2: Summary Statistics\n",
    "* Lab 3: Normal Distributions\n",
    "\n",
    "__In this example, I am going to be doing inference using a Quantitative variable.__"
   ]
  },
  {
   "cell_type": "markdown",
   "id": "eab75b5b",
   "metadata": {},
   "source": [
    "## Load the Data"
   ]
  },
  {
   "cell_type": "code",
   "execution_count": 1,
   "id": "0e4f7ef1",
   "metadata": {},
   "outputs": [],
   "source": [
    "import numpy as np\n",
    "import pandas as pd\n",
    "import scipy.stats as stats\n",
    "\n",
    "import seaborn as sns\n",
    "import matplotlib.pyplot as plt"
   ]
  },
  {
   "cell_type": "code",
   "execution_count": 2,
   "id": "e5a565fd",
   "metadata": {},
   "outputs": [
    {
     "data": {
      "text/html": [
       "<div>\n",
       "<style scoped>\n",
       "    .dataframe tbody tr th:only-of-type {\n",
       "        vertical-align: middle;\n",
       "    }\n",
       "\n",
       "    .dataframe tbody tr th {\n",
       "        vertical-align: top;\n",
       "    }\n",
       "\n",
       "    .dataframe thead th {\n",
       "        text-align: right;\n",
       "    }\n",
       "</style>\n",
       "<table border=\"1\" class=\"dataframe\">\n",
       "  <thead>\n",
       "    <tr style=\"text-align: right;\">\n",
       "      <th></th>\n",
       "      <th>address</th>\n",
       "      <th>price</th>\n",
       "      <th>bed</th>\n",
       "      <th>bath</th>\n",
       "      <th>area</th>\n",
       "      <th>type</th>\n",
       "      <th>year_built</th>\n",
       "      <th>heating</th>\n",
       "      <th>cooling</th>\n",
       "      <th>parking</th>\n",
       "      <th>lot</th>\n",
       "      <th>hoa</th>\n",
       "      <th>url</th>\n",
       "    </tr>\n",
       "  </thead>\n",
       "  <tbody>\n",
       "    <tr>\n",
       "      <th>0</th>\n",
       "      <td>1 Learned Pl, Durham, NC 27705</td>\n",
       "      <td>1520000</td>\n",
       "      <td>3</td>\n",
       "      <td>4.0</td>\n",
       "      <td>6040</td>\n",
       "      <td>Single Family</td>\n",
       "      <td>1972</td>\n",
       "      <td>Other, Gas</td>\n",
       "      <td>central</td>\n",
       "      <td>0 spaces</td>\n",
       "      <td>0.97</td>\n",
       "      <td>NaN</td>\n",
       "      <td>https://www.zillow.com/homedetails/1-Learned-P...</td>\n",
       "    </tr>\n",
       "    <tr>\n",
       "      <th>1</th>\n",
       "      <td>1616 Pinecrest Rd, Durham, NC 27705</td>\n",
       "      <td>1030000</td>\n",
       "      <td>5</td>\n",
       "      <td>4.0</td>\n",
       "      <td>4475</td>\n",
       "      <td>Single Family</td>\n",
       "      <td>1969</td>\n",
       "      <td>Forced air, Gas</td>\n",
       "      <td>central</td>\n",
       "      <td>Carport, Covered</td>\n",
       "      <td>1.38</td>\n",
       "      <td>NaN</td>\n",
       "      <td>https://www.zillow.com/homedetails/1616-Pinecr...</td>\n",
       "    </tr>\n",
       "    <tr>\n",
       "      <th>2</th>\n",
       "      <td>2418 Wrightwood Ave, Durham, NC 27705</td>\n",
       "      <td>420000</td>\n",
       "      <td>2</td>\n",
       "      <td>3.0</td>\n",
       "      <td>1745</td>\n",
       "      <td>Single Family</td>\n",
       "      <td>1959</td>\n",
       "      <td>Forced air, Gas</td>\n",
       "      <td>central</td>\n",
       "      <td>Garage - Attached, Covered</td>\n",
       "      <td>0.51</td>\n",
       "      <td>NaN</td>\n",
       "      <td>https://www.zillow.com/homedetails/2418-Wright...</td>\n",
       "    </tr>\n",
       "    <tr>\n",
       "      <th>3</th>\n",
       "      <td>2527 Sevier St, Durham, NC 27705</td>\n",
       "      <td>680000</td>\n",
       "      <td>4</td>\n",
       "      <td>3.0</td>\n",
       "      <td>2091</td>\n",
       "      <td>Single Family</td>\n",
       "      <td>1961</td>\n",
       "      <td>Heat pump, Other, Electric, Gas</td>\n",
       "      <td>central</td>\n",
       "      <td>Carport, Covered</td>\n",
       "      <td>0.84</td>\n",
       "      <td>NaN</td>\n",
       "      <td>https://www.zillow.com/homedetails/2527-Sevier...</td>\n",
       "    </tr>\n",
       "    <tr>\n",
       "      <th>4</th>\n",
       "      <td>2218 Myers St, Durham, NC 27707</td>\n",
       "      <td>428500</td>\n",
       "      <td>4</td>\n",
       "      <td>3.0</td>\n",
       "      <td>1772</td>\n",
       "      <td>Single Family</td>\n",
       "      <td>2020</td>\n",
       "      <td>Forced air, Gas</td>\n",
       "      <td>central</td>\n",
       "      <td>0 spaces</td>\n",
       "      <td>0.16</td>\n",
       "      <td>NaN</td>\n",
       "      <td>https://www.zillow.com/homedetails/2218-Myers-...</td>\n",
       "    </tr>\n",
       "  </tbody>\n",
       "</table>\n",
       "</div>"
      ],
      "text/plain": [
       "                                 address    price  bed  bath  area  \\\n",
       "0         1 Learned Pl, Durham, NC 27705  1520000    3   4.0  6040   \n",
       "1    1616 Pinecrest Rd, Durham, NC 27705  1030000    5   4.0  4475   \n",
       "2  2418 Wrightwood Ave, Durham, NC 27705   420000    2   3.0  1745   \n",
       "3       2527 Sevier St, Durham, NC 27705   680000    4   3.0  2091   \n",
       "4        2218 Myers St, Durham, NC 27707   428500    4   3.0  1772   \n",
       "\n",
       "            type  year_built                          heating  cooling  \\\n",
       "0  Single Family        1972                       Other, Gas  central   \n",
       "1  Single Family        1969                  Forced air, Gas  central   \n",
       "2  Single Family        1959                  Forced air, Gas  central   \n",
       "3  Single Family        1961  Heat pump, Other, Electric, Gas  central   \n",
       "4  Single Family        2020                  Forced air, Gas  central   \n",
       "\n",
       "                      parking   lot  hoa  \\\n",
       "0                    0 spaces  0.97  NaN   \n",
       "1            Carport, Covered  1.38  NaN   \n",
       "2  Garage - Attached, Covered  0.51  NaN   \n",
       "3            Carport, Covered  0.84  NaN   \n",
       "4                    0 spaces  0.16  NaN   \n",
       "\n",
       "                                                 url  \n",
       "0  https://www.zillow.com/homedetails/1-Learned-P...  \n",
       "1  https://www.zillow.com/homedetails/1616-Pinecr...  \n",
       "2  https://www.zillow.com/homedetails/2418-Wright...  \n",
       "3  https://www.zillow.com/homedetails/2527-Sevier...  \n",
       "4  https://www.zillow.com/homedetails/2218-Myers-...  "
      ]
     },
     "execution_count": 2,
     "metadata": {},
     "output_type": "execute_result"
    }
   ],
   "source": [
    "duke = pd.read_csv(\"../Datasets/duke_forest.csv\")\n",
    "duke.head()"
   ]
  },
  {
   "cell_type": "markdown",
   "id": "908dcc18",
   "metadata": {},
   "source": [
    "## Separating data into groups using quantitative data"
   ]
  },
  {
   "cell_type": "code",
   "execution_count": 3,
   "id": "fba05807",
   "metadata": {},
   "outputs": [
    {
     "data": {
      "text/plain": [
       "0      True\n",
       "1      True\n",
       "2     False\n",
       "3     False\n",
       "4     False\n",
       "      ...  \n",
       "93    False\n",
       "94    False\n",
       "95    False\n",
       "96     True\n",
       "97     True\n",
       "Name: area, Length: 98, dtype: bool"
      ]
     },
     "execution_count": 3,
     "metadata": {},
     "output_type": "execute_result"
    }
   ],
   "source": [
    "# Create a condition and see what data fits\n",
    "duke['area'] >= 3500"
   ]
  },
  {
   "cell_type": "code",
   "execution_count": 4,
   "id": "58a1c528",
   "metadata": {},
   "outputs": [
    {
     "name": "stdout",
     "output_type": "stream",
     "text": [
      "Number of houses with area >= 3500 sqft:  19\n",
      "Total number of houses:  98\n",
      "Proportion of houses with area >= 3500 sqft:  0.19387755102040816\n"
     ]
    }
   ],
   "source": [
    "# Take the sum of the True values to count how many\n",
    "\n",
    "count_largehouses = (duke['area'] >= 3500).sum()\n",
    "\n",
    "print(\"Number of houses with area >= 3500 sqft: \", count_largehouses)\n",
    "print(\"Total number of houses: \", len(duke))    \n",
    "\n",
    "p_largehouses = count_largehouses / len(duke)\n",
    "\n",
    "print(\"Proportion of houses with area >= 3500 sqft: \", p_largehouses)"
   ]
  },
  {
   "cell_type": "markdown",
   "id": "f9081e3b",
   "metadata": {},
   "source": [
    "## Confidence Interval for 1 sample"
   ]
  },
  {
   "cell_type": "markdown",
   "id": "9b52c5b9",
   "metadata": {},
   "source": [
    "Recall the steps for forming a confidence interval:\n",
    "1. Confidence Level\n",
    "2. Critical Value\n",
    "3. Find your Point Estimate ($\\hat{p}$)\n",
    "4. Calculate SE (Standard Error): $SE = \\sqrt{\\frac{\\hat{p}(1-\\hat{p})}{n}}$\n",
    "5. Calculate ME (Margin of Error): $ME = z_c SE$\n",
    "6. Calculate the confidence interval: $p = \\hat{p}\\pm ME$\n",
    "7. Make your conclusion"
   ]
  },
  {
   "cell_type": "markdown",
   "id": "83f9a1c8",
   "metadata": {},
   "source": [
    "__Question__: Find the 95% confidence interval for the proprtion of large houses in the Duke Forest area."
   ]
  },
  {
   "cell_type": "code",
   "execution_count": 5,
   "id": "c090df1d",
   "metadata": {},
   "outputs": [
    {
     "name": "stdout",
     "output_type": "stream",
     "text": [
      "95% confidence interval for proportion of houses with central cooling:\n",
      "Lower bound =  0.11560683196507983\n",
      "Upper bound =  0.2721482700757365\n"
     ]
    }
   ],
   "source": [
    "# Longhand method for large houses confidence interval\n",
    "C = 0.95\n",
    "alpha = (1-C)/2\n",
    "\n",
    "zcrit = stats.norm.ppf(alpha)  # This gives the critical value of the left tail, so it will be negative\n",
    "zcrit = abs(zcrit)             # Critical value should be positive\n",
    "\n",
    "me_central = zcrit * np.sqrt((p_largehouses * (1 - p_largehouses)) / len(duke))\n",
    "\n",
    "print(\"95% confidence interval for proportion of houses with central cooling:\")\n",
    "print(\"Lower bound = \", p_largehouses - me_central)\n",
    "print(\"Upper bound = \", p_largehouses + me_central)"
   ]
  },
  {
   "cell_type": "code",
   "execution_count": 6,
   "id": "3fc39ee9",
   "metadata": {},
   "outputs": [
    {
     "name": "stdout",
     "output_type": "stream",
     "text": [
      "95% confidence interval for proportion of houses with central cooling:  (np.float64(0.11560683196507983), np.float64(0.2721482700757365))\n"
     ]
    }
   ],
   "source": [
    "# Python shortcut for large houses confidence interval\n",
    "\n",
    "###  NOTE:  You do not have to do both methods. This is just to show you that they give the same result.  ###\n",
    "\n",
    "C = 0.95\n",
    "\n",
    "se_largehouses = np.sqrt((p_largehouses * (1 - p_largehouses)) / len(duke))\n",
    "ci_largehouses = stats.norm.interval(C, loc=p_largehouses, scale=se_largehouses)\n",
    "\n",
    "print(\"95% confidence interval for proportion of houses with central cooling: \", ci_largehouses)"
   ]
  },
  {
   "cell_type": "markdown",
   "id": "195f879b",
   "metadata": {},
   "source": [
    "## Hypothesis Test for 1 sample"
   ]
  },
  {
   "cell_type": "markdown",
   "id": "3c9c2ba2",
   "metadata": {},
   "source": [
    "Recall the steps for performing a Hypothesis Testing:\n",
    "1. Determine the null value\n",
    "2. Hypotheses\n",
    "3. Level of Significance\n",
    "4. Point Estimate ($\\hat{p}$) and Standard Error\n",
    "5. Calculate Test Statistic ($Z=\\frac{\\hat{p}-p_0}{SE}$)\n",
    "6. Calculate the p-value and compare to level of significance\n",
    "7. Make your conclusion"
   ]
  },
  {
   "cell_type": "markdown",
   "id": "16331fd4",
   "metadata": {},
   "source": [
    "__Question__: In some areas near Duke Forest, at least 45% of homes can be classified as a large area. Show whether the percentage of large houses in Duke Forest is at least 45% or whether it is below that number using a 5% level of significance.\n",
    "\n",
    "* $p_0 = 0.45$\n",
    "* H0: $p = 0.45$\n",
    "* HA: $p < 0.45$\n",
    "* $\\alpha = 0.05$"
   ]
  },
  {
   "cell_type": "code",
   "execution_count": 7,
   "id": "42e9cd00",
   "metadata": {},
   "outputs": [
    {
     "name": "stdout",
     "output_type": "stream",
     "text": [
      "Test statistic (z) for large houses hypothesis test:  -5.096512362405544\n",
      "P-value for large houses hypothesis test:  1.7298399024450022e-07\n",
      "Reject the null hypothesis.\n",
      "Conclusion: There is sufficient evidence to conclude that the proportion of large houses is less than 45%.\n"
     ]
    }
   ],
   "source": [
    "alpha = 0.05\n",
    "null_value = 0.45\n",
    "\n",
    "# Test Statistic\n",
    "se = np.sqrt((null_value * (1 - null_value)) / len(duke))\n",
    "z_largehouses = (p_largehouses - null_value) / se\n",
    "print(\"Test statistic (z) for large houses hypothesis test: \", z_largehouses) # This will be negative since p_largehouses < null_value\n",
    "\n",
    "# P-value\n",
    "p_value_largehouses = stats.norm.cdf(z_largehouses)  # since this is a left-tailed test\n",
    "print(\"P-value for large houses hypothesis test: \", p_value_largehouses)\n",
    "\n",
    "# Make decision\n",
    "if p_value_largehouses < alpha:\n",
    "    print(\"Reject the null hypothesis.\")\n",
    "else:\n",
    "    print(\"Fail to reject the null hypothesis.\")\n",
    "\n",
    "# Conclusion\n",
    "print(\"Conclusion: There is sufficient evidence to conclude that the proportion of large houses is less than 45%.\")"
   ]
  },
  {
   "cell_type": "markdown",
   "id": "8edbb56a",
   "metadata": {},
   "source": [
    "-----"
   ]
  },
  {
   "cell_type": "markdown",
   "id": "bda3628a",
   "metadata": {},
   "source": [
    "## Your turn to do inference"
   ]
  },
  {
   "cell_type": "markdown",
   "id": "02486298",
   "metadata": {},
   "source": [
    "Your job now is to select a dataset from the [textbook dataset website](https://www.openintro.org/data/) and perform a similar analysis. You are welcome to use the same dataset that you used for Lab 1, Lab 2, and/or Lab 3.\n",
    "\n",
    "### Instructions\n",
    "1. Look at your dataset and create a question that you can answer. \n",
    "    * Look for a clear comparison (Maybe set up a confusion matrix between two variables and see if there are any two variables where the proportion of one variable changes based on another variable)\n",
    "    * Set up your question using this comparison. \n",
    "    * For example, your sample data shows that the percentage of customers who like diet sodas is higher for coke drinkers than it is for pepsi drinkers. So, your question may be, \"Is there a higher proportion of coke drinkers who prefer diet soda than there is for pepsi drinkers?\"\n",
    "2. Determine a null value\n",
    "3. Determine your null and alternate hypotheses\n",
    "4. Determine your level of significance\n",
    "    * Make sure you do this *before* doing any calculations\n",
    "5. Perform the hypothesis test\n",
    "    * Find the test statistic\n",
    "    * Find the p-value\n",
    "    * Determine whether you reject H0 or not\n",
    "    * Make a conclusion\n",
    "6. Find the 95% confidence interval of your study\n",
    "\n",
    "Note that your question may be for 1 sample or for two. You can choose what you need to answer your question."
   ]
  },
  {
   "cell_type": "code",
   "execution_count": null,
   "id": "226c64c1",
   "metadata": {},
   "outputs": [],
   "source": []
  },
  {
   "cell_type": "code",
   "execution_count": null,
   "id": "d3675294",
   "metadata": {},
   "outputs": [],
   "source": []
  },
  {
   "cell_type": "code",
   "execution_count": null,
   "id": "5cf459b5",
   "metadata": {},
   "outputs": [],
   "source": []
  },
  {
   "cell_type": "code",
   "execution_count": null,
   "id": "828164a1",
   "metadata": {},
   "outputs": [],
   "source": []
  },
  {
   "cell_type": "markdown",
   "id": "2f3a487e",
   "metadata": {},
   "source": [
    "-----\n",
    "To submit your assignment,\n",
    "* Click on the `Share` button above\n",
    "* Under General Access, select `Anyone with the link`\n",
    "* Copy the link\n",
    "* Paste the link into Canvas\n",
    "* Click `Submit`"
   ]
  }
 ],
 "metadata": {
  "kernelspec": {
   "display_name": "DataScience",
   "language": "python",
   "name": "python3"
  },
  "language_info": {
   "codemirror_mode": {
    "name": "ipython",
    "version": 3
   },
   "file_extension": ".py",
   "mimetype": "text/x-python",
   "name": "python",
   "nbconvert_exporter": "python",
   "pygments_lexer": "ipython3",
   "version": "3.12.5"
  }
 },
 "nbformat": 4,
 "nbformat_minor": 5
}
